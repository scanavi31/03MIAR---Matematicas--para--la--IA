{
 "cells": [
  {
   "cell_type": "markdown",
   "id": "755d8dac",
   "metadata": {},
   "source": [
    "# Máster Universitario en Inteligencia Artificial\n",
    "\n",
    "## Matemáticas para la IA\n",
    "\n",
    "02MIAR - 6 ECTS\n",
    "\n",
    "### Actividad Grupal: Álgebra y Cálculo en Python  \n",
    "\n",
    "Grupo_17:  Isaias Antonio López Salazar\n",
    "           Iván Darío Callejas Sandoval\n",
    "\n",
    "https://github.com/scanavi31/03MIAR---Matematicas--para--la--IA"
   ]
  },
  {
   "cell_type": "markdown",
   "id": "b4911787",
   "metadata": {},
   "source": [
    "# Punto 1:\n",
    "\n",
    "Ilustrar las diferentes alternativas que pueden existir para realizar un proceso relacionado con el álgebra lineal y el impacto que puede tener cada variante en términos del coste computacional del mismo. En este caso en particular, y a modo de ilustración, nos centraremos en el cálculo del determinante de una matriz."
   ]
  },
  {
   "cell_type": "markdown",
   "id": "621e9c97",
   "metadata": {},
   "source": [
    "**a) [1 punto] Implementa una función, determinante recursivo, que obtenga el determinante de una matriz cuadrada utilizando la definición recursiva de Laplace.**"
   ]
  },
  {
   "cell_type": "markdown",
   "id": "8e6fed34",
   "metadata": {},
   "source": [
    "**RTA**\n",
    "\n",
    "*Para el cálculo de determinantes de matrices de cualquier orden, existe una regla recursiva (teorema de Laplace) que reduce el cálculo a sumas y restas de varios determinantes de un orden inferior. Este proceso se puede repetir tantas veces como sea necesario hasta reducir el problema al cálculo de múltiples determinantes de orden tan pequeño como se quiera. Sabiendo que el determinante de un escalar es el propio escalar, es posible calcular el determinante de cualquier matriz aplicando dicho teorema.*\n",
    "\n",
    "*Referencia: https://sites.google.com/site/grupomatematicasmineria/determinante-de-una-matriz* "
   ]
  },
  {
   "cell_type": "code",
   "execution_count": 123,
   "id": "1a01710f",
   "metadata": {},
   "outputs": [],
   "source": [
    "def determinante_recursivo(matriz):\n",
    "    det = 0\n",
    "    l = len(matriz)\n",
    "    if l == 1:\n",
    "        det = matriz[0][0]\n",
    "    elif l == 2:\n",
    "        det = matriz[0][0]*matriz[1][1] - matriz[0][1]*matriz[1][0]\n",
    "    else:\n",
    "        for i in range(l):\n",
    "            matriz_reducida = []\n",
    "            for j in range(1, l):\n",
    "                fila = []\n",
    "                for k in range(l):\n",
    "                    if k != i:\n",
    "                        fila.append(matriz[j][k])\n",
    "                matriz_reducida.append(fila)\n",
    "            det += (-1)**i * matriz[0][i] * determinante_recursivo(matriz_reducida)\n",
    "    return det"
   ]
  },
  {
   "cell_type": "markdown",
   "id": "df71955d",
   "metadata": {},
   "source": [
    "Ejemplo uso función determinante_recursivo:"
   ]
  },
  {
   "cell_type": "code",
   "execution_count": 124,
   "id": "d15e84dd",
   "metadata": {},
   "outputs": [
    {
     "name": "stdout",
     "output_type": "stream",
     "text": [
      "Determinante Matriz A:  -1\n",
      "Determinante Matriz B:  0\n"
     ]
    }
   ],
   "source": [
    "A = [[2,3,0],\n",
    "     [1,3,4],\n",
    "     [1,2,1]]\n",
    "\n",
    "B = [[5,0,-1],\n",
    "     [1,-3,-2],\n",
    "     [0,5,3]]\n",
    "\n",
    "print(\"Determinante Matriz A: \", determinante_recursivo(A))\n",
    "print(\"Determinante Matriz B: \", determinante_recursivo(B))"
   ]
  },
  {
   "cell_type": "markdown",
   "id": "f6e023bb",
   "metadata": {},
   "source": [
    "**b) [0.5 puntos] Si A es una matriz cuadrada n×n y triangular (superior o inferior, es decir, con entradas nulas por debajo o por encima de la diagonal, respectivamente), ¿existe alguna forma de calcular de forma directa y sencilla su determinante? Justifíquese la respuesta.**"
   ]
  },
  {
   "cell_type": "markdown",
   "id": "811941e7",
   "metadata": {},
   "source": [
    "**RTA**\n",
    "\n",
    "En contexto para responder a continuación se muestra la matriz triangular superior la cual contiene entradas nulas por debajo y la matriz triangular inferior la cual contiene entradas nulas por encima: \n",
    "\n",
    "Matriz A (triangula superior), \n",
    "\n",
    "1    2    3\n",
    "\n",
    "0    4    5\n",
    "\n",
    "0    0    6\n",
    "\n",
    "Matriz B (triangula inferior),\n",
    "\n",
    "6    0    0\n",
    "\n",
    "4    5    0\n",
    "\n",
    "1    2    3\n",
    "\n",
    "En cuanto a la pregunta, si existe una manera directa y sencilla para calcular el determinante de este tipo de matrices gracias a su característica de contar con entradas nulas (0) ya sea por encima o por debajo de la diagonal. Esto permite reducir los cálculos, ya que, al realizar la expansión del determinante por fila o columna se evidencia que los únicos términos que quedan son los de la diagonal principal los demás se anulan por la multiplicación por cero (0) como se demuestra con el siguiente ejemplo: \n",
    "\n",
    "![alt text](./demostracion.png)\n",
    "\n",
    "Por ello, si se tiene una matriz nxn y es una matriz triangular el cálculo de su determinante se realiza de manera directa multiplicando los elementos de su diagonal principal.\n",
    "\n",
    "                                            det⁡(A)=a_11*a_22*a_33…*a_nn"
   ]
  },
  {
   "cell_type": "markdown",
   "id": "5afbf819",
   "metadata": {},
   "source": [
    "*Ejemplo / Demostración*\n",
    "- Uso método recursivo "
   ]
  },
  {
   "cell_type": "code",
   "execution_count": 125,
   "id": "c2d2be49",
   "metadata": {},
   "outputs": [
    {
     "name": "stdout",
     "output_type": "stream",
     "text": [
      "Determinante Matriz Triangular superior 24\n",
      "Determinante Matriz Triangular inferior 90\n"
     ]
    }
   ],
   "source": [
    "Triang_superior = [[1,2,3],\n",
    "                   [0,4,5],\n",
    "                   [0,0,6]]\n",
    "\n",
    "Triang_inferior = [[6,0,0],\n",
    "                   [4,5,0],\n",
    "                   [1,2,3]]\n",
    "\n",
    "print(\"Determinante Matriz Triangular superior\", determinante_recursivo(Triang_superior))\n",
    "print(\"Determinante Matriz Triangular inferior\", determinante_recursivo(Triang_inferior))"
   ]
  },
  {
   "cell_type": "markdown",
   "id": "96931f09",
   "metadata": {},
   "source": [
    "- Uso método directo y sencillo "
   ]
  },
  {
   "cell_type": "code",
   "execution_count": 126,
   "id": "d0327deb",
   "metadata": {},
   "outputs": [],
   "source": [
    "def det_triang(A):\n",
    "    det = 1\n",
    "    l = len(A)\n",
    "    for i in range(l):\n",
    "        det *=  A[i][i]\n",
    "    return det\n",
    "    "
   ]
  },
  {
   "cell_type": "code",
   "execution_count": 127,
   "id": "1ab328d4",
   "metadata": {},
   "outputs": [
    {
     "name": "stdout",
     "output_type": "stream",
     "text": [
      "Determinante Matriz Triangular superior 24\n",
      "Determinante Matriz Triangular inferior 90\n"
     ]
    }
   ],
   "source": [
    "print(\"Determinante Matriz Triangular superior\", det_triang(Triang_superior))\n",
    "print(\"Determinante Matriz Triangular inferior\", det_triang(Triang_inferior))"
   ]
  },
  {
   "cell_type": "markdown",
   "id": "8e00c8d5",
   "metadata": {},
   "source": [
    "**c) [0.5 puntos] Determínese de forma justificada cómo alteran el determinante de una matriz n × n las dos operaciones elementales siguientes**:\n",
    "\n",
    "- **Intercambiar una fila (o columna) por otra fila (o columna).**\n",
    "- **Sumar a una fila (o columna) otra fila (o columna) multiplicada por un escalar α.**"
   ]
  },
  {
   "cell_type": "markdown",
   "id": "75880300",
   "metadata": {},
   "source": [
    "**RTA**\n",
    "\n",
    "A contnuación, se menciona como se altera el determinante al aplicar las siguiente dos operaciones elementales:\n",
    "\n",
    "1.\tIntercambiar una fila (o columna) por otra fila (o columna): \n",
    "\n",
    "![alt text](./intercambiarfilas.jpeg)\n",
    "\n",
    "de acuerdo con las propiedades de los determinantes, esta operación cambia el signo del determinante, pero no su valor absoluto. Esto se debe a que todos los elementos cambian de índice en la permutación como se justifica con la demostración realizada.\n",
    "\n",
    "2.\tSumar a una fila (o columna) otra fila (o columna) multiplicada por un escalar α:  \n",
    "\n",
    "![alt text](./sumarfila.png)\n",
    "\n",
    "Al realizar esta operación, el valor del determinante no cambia es el mismo como se justifica con la demostración realizada.\n",
    "\n"
   ]
  },
  {
   "cell_type": "markdown",
   "id": "ce69027b",
   "metadata": {},
   "source": [
    "*Ejemplo / Demostración*\n",
    "- Intercambiar una fila por otra fila: "
   ]
  },
  {
   "cell_type": "code",
   "execution_count": 128,
   "id": "da6a9493",
   "metadata": {},
   "outputs": [],
   "source": [
    "# función intercambiar fila \n",
    "def intercambiar_f(matriz, i, j):\n",
    "    matriz[i], matriz[j] = matriz[j], matriz[i]\n",
    "    return matriz\n",
    "\n",
    "# función intercambiar columna\n",
    "def intercambiar_c(matriz, i, j):\n",
    "    for fila in matriz:\n",
    "        fila[i], fila[j] = fila[j], fila[i]\n",
    "    return matriz"
   ]
  },
  {
   "cell_type": "code",
   "execution_count": 129,
   "id": "d0ce912f",
   "metadata": {},
   "outputs": [
    {
     "name": "stdout",
     "output_type": "stream",
     "text": [
      "Determinante Matriz A:  -1\n",
      "Determinante Matriz A1:  1\n",
      "\n",
      "\n",
      "Se observa como el determinante tiene el mismo valor pero cambia el signo al intercambiar una fila o (columna) por otra fila o (columna)\n"
     ]
    }
   ],
   "source": [
    "A = [[2,3,0],\n",
    "     [1,3,4],\n",
    "     [1,2,1]]\n",
    "# se calcula el determinante\n",
    "print(\"Determinante Matriz A: \", determinante_recursivo(A))\n",
    "# Se intercambia la fila 1 con la fila 3\n",
    "A1 = intercambiar_f(A, 0, 2)\n",
    "# se calcula el determinante\n",
    "print(\"Determinante Matriz A1: \", determinante_recursivo(A1))\n",
    "print(\"\\n\")\n",
    "print(\"Se observa como el determinante tiene el mismo valor pero cambia el signo al intercambiar una fila o (columna) por otra fila o (columna)\")"
   ]
  },
  {
   "cell_type": "markdown",
   "id": "e6fd53e7",
   "metadata": {},
   "source": [
    "- Sumar a una fila otra fila multiplicada por un escalar α:"
   ]
  },
  {
   "cell_type": "code",
   "execution_count": 130,
   "id": "9586ba58",
   "metadata": {},
   "outputs": [
    {
     "name": "stdout",
     "output_type": "stream",
     "text": [
      "Determinante Matriz A:  -1\n",
      "Determinante Matriz A1:  -1\n",
      "\n",
      "\n",
      "Se observa como el determinante tiene el mismo valor no varía al sumar una fila (o columna) multiplicada por un α a otra fila (o columna)\n"
     ]
    }
   ],
   "source": [
    "A = [[2,3,0],\n",
    "     [1,3,4],\n",
    "     [1,2,1]]\n",
    "# Se suma la fila 1 multiplicada por 3 a la fila 3, αf1 = 3[2,3,0] = [6,9,0] \n",
    "A1 = [[2,3,0],\n",
    "     [1,3,4],\n",
    "     [7,11,1]]\n",
    "# se calcula el determinante\n",
    "print(\"Determinante Matriz A: \", determinante_recursivo(A))\n",
    "print(\"Determinante Matriz A1: \", determinante_recursivo(A1))\n",
    "print(\"\\n\")\n",
    "print(\"Se observa como el determinante tiene el mismo valor no varía al sumar una fila (o columna) multiplicada por un α a otra fila (o columna)\")"
   ]
  },
  {
   "cell_type": "markdown",
   "id": "05b8aaf1",
   "metadata": {},
   "source": [
    "**d) [1 punto] Investiga sobre el método de eliminación de Gauss con pivoteo parcial e implementalo para escalonar una matriz (es decir, convertirla en una matriz triangular inferior) a partir de las operaciones elementales descritas en el apartado anterior.**\n",
    "- **Intercambiar una fila (o columna) por otra fila (o columna).**\n",
    "- **Sumar a una fila (o columna) otra fila (o columna) multiplicada por un escalar α.**"
   ]
  },
  {
   "cell_type": "markdown",
   "id": "e95b0098",
   "metadata": {},
   "source": [
    "**RTA**\n",
    "\n",
    "*Método de eliminación de Gauss con pivote parcial*\n",
    "\n",
    "*La aparición de un pivote pequeño puede ser el anuncio de un desastre computacional. Por ello debemos modificar el método de eliminación de Gauss para evitar pivotes pequeños intercambiando las filas y las columnas de la matriz A.\n",
    "Teniendo así Eliminación de Gauss con pivote parcial, esta técnica consiste en ubicar en la fila pivote el termino de mayor magnitud de tal forma que al realizar la división por dicho termino no se incurre en la violación de división por números cercanos a cero ni la división por cero.*\n",
    "\n",
    "*Para realizar este método se tiene el siguiente procedimiento:*\n",
    "- *Se debe construir una matriz de coeficientes y el vector con los términos independientes, correspondientes al sistema, y se crea una matriz llamada la matriz aumentada*\n",
    "- *Se busca el número mayor (en valor absoluto) en cada la columna correspondiente a la etapa y se procede a un cambio de filas para ubicar el mayor elegido en la posición correspondiente a la etapa.*\n",
    "- *Una vez ubicado el número mayor, se procede al cálculo de los multiplicadores correspondientes a la etapa.*\n",
    "- *Con los multiplicadores hallados en cada etapa, se procede al cálculo de las nuevas filas de la matriz aumentada.*\n",
    "- *Una vez se tiene la matriz aumentada en la forma triangular superior, se procede a realizar una sustitución regresiva, para el cálculo de las variables. Este método consiste en despejar las variables desconocidas a partir de las últimas ecuaciones de la matriz triangular superior y sustituir los valores obtenidos en las ecuaciones anteriores.* \n",
    "\n",
    "*Nota: el método de Gauss con pivoteo parcial es un método robusto y estable numéricamente, ya que evita la división por cero y minimiza el efecto de errores de redondeo. Sin embargo, requiere más operaciones que el método de eliminación de Gauss sin pivoteo parcial.*\n",
    "\n",
    "![alt text](./ejemplo_gauss_parcial.png)\n",
    "\n",
    "\n",
    "\n",
    "*Referencia: \n",
    "- http://pcmap.unizar.es/~pilar/pivote.pdf   \n",
    "- https://sites.google.com/site/procesosnumericoseafit2014011/sistemas-de-ecuaciones-lineales/eliminacion-gaussiana-con-pivoteo-parcial\n",
    "- https://procesosnumericos2015.weebly.com/uploads/4/6/8/1/46814569/eliminacion_gaussiana_con_pivoteo_parcial.pdf\n"
   ]
  },
  {
   "cell_type": "markdown",
   "id": "95945b7c",
   "metadata": {},
   "source": [
    "*Implementación Método Gauss con pivote parcial para escalonar matriz*"
   ]
  },
  {
   "cell_type": "code",
   "execution_count": 131,
   "id": "9d8635f8",
   "metadata": {},
   "outputs": [],
   "source": [
    "def pivote_parcial(matriz, k):\n",
    "    f_pivote = max(range(k, len(matriz)), key=lambda i: abs(matriz[i][k]))\n",
    "    intercambiar_f(matriz, k, f_pivote)\n"
   ]
  },
  {
   "cell_type": "code",
   "execution_count": 132,
   "id": "7604a709",
   "metadata": {},
   "outputs": [],
   "source": [
    "def metodo_gaussPP(matriz):\n",
    "    n = len(matriz)\n",
    "    for k in range(n):\n",
    "        pivote_parcial(matriz, k)\n",
    "        for i in range(k+1, n):\n",
    "            factor = matriz[i][k] / matriz[k][k]\n",
    "            for j in range(k, n):\n",
    "                matriz[i][j] -= factor * matriz[k][j]\n",
    "    return matriz\n"
   ]
  },
  {
   "cell_type": "markdown",
   "id": "7580e7d8",
   "metadata": {},
   "source": [
    "*Ejemplo:*"
   ]
  },
  {
   "cell_type": "code",
   "execution_count": 133,
   "id": "a9a91a53",
   "metadata": {},
   "outputs": [
    {
     "name": "stdout",
     "output_type": "stream",
     "text": [
      "Matriz resultante al aplicar metodo de Gauss con pivote parcial: \n",
      "[4, -6, 0]\n",
      "[0.0, 4.0, 1.0]\n",
      "[0.0, 0.0, 1.0]\n"
     ]
    }
   ],
   "source": [
    "A = [[2,1,1],\n",
    "     [4,-6,0],\n",
    "     [-2,7,2]]\n",
    "# se aplica metodo\n",
    "Matriz_resultante = metodo_gaussPP(A)\n",
    "\n",
    "print(\"Matriz resultante al aplicar metodo de Gauss con pivote parcial: \" )\n",
    "# Imprimir resultado\n",
    "for fila in Matriz_resultante:\n",
    "    print(fila)\n"
   ]
  },
  {
   "cell_type": "markdown",
   "id": "bada4fbb",
   "metadata": {},
   "source": [
    "**e) [0.5 puntos] ¿Cómo se podría calcular el determinante de una matriz haciendo beneficio de la estrategia anterior y del efecto de aplicar las operaciones elementales pertinentes?**\n",
    "\n",
    "**Implementa una nueva función, determinante gauss, que calcule el determinante de una matriz utilizando eliminación gaussiana.**"
   ]
  },
  {
   "cell_type": "markdown",
   "id": "d6609523",
   "metadata": {},
   "source": [
    "**RTA**\n",
    "\n",
    "De acuerdo con las respuestas a puntos anteriores, con la implementación del método de eliminación de Gauss con pivote parcial se obtiene una matriz triangular  superior utilizando operaciones elementales, en este punto como se demostró el cálculo del determinante de este tipo de matriz es directo y sencillo multiplicando los elementos de su diagonal principal.Se debe tener presente que como una de las operaciones elementales usadas en Gauss con pivote parcial es el intercambio de filas y que este genera cambio de signo en el determinante, por ello, se debe multiplicar al resultado final del valor del determinante por (-1)^s donde s representa el número de intercambios de filas usados en el metodo de Gauss con pivote, que para el caso de la funcion metodo_gaussPP(matriz) el valor se s es n (len(matriz)).\n",
    "\n",
    "Para el calculo del determinate se realiza los siguientes pasos:\n",
    "- Se aplica Gauus con pivote parcial \n",
    "- Se halla determinate de la matriz triangular superior de forma directa\n",
    "\n"
   ]
  },
  {
   "cell_type": "markdown",
   "id": "9a36bc27",
   "metadata": {},
   "source": [
    "*Implementación Determinate de Gauss*"
   ]
  },
  {
   "cell_type": "code",
   "execution_count": 134,
   "id": "535ae574",
   "metadata": {},
   "outputs": [],
   "source": [
    "def determinante_Gauss(matriz):\n",
    "    s = len(matriz)\n",
    "    B = metodo_gaussPP(matriz)\n",
    "    return ((-1)**s)*det_triang(B)\n",
    "    "
   ]
  },
  {
   "cell_type": "markdown",
   "id": "1d4bfecc",
   "metadata": {},
   "source": [
    "*Ejemplo:*"
   ]
  },
  {
   "cell_type": "code",
   "execution_count": 135,
   "id": "2b0278f5",
   "metadata": {},
   "outputs": [
    {
     "name": "stdout",
     "output_type": "stream",
     "text": [
      "Determinante Matriz A (Recursivo):  -16\n",
      "Determinante Matriz A (Gauss con pivote parcial):  -16.0\n"
     ]
    }
   ],
   "source": [
    "A = [[2,1,1],\n",
    "     [4,-6,0],\n",
    "     [-2,7,2]]\n",
    "# se calcula el determinante\n",
    "print(\"Determinante Matriz A (Recursivo): \", determinante_recursivo(A))\n",
    "print(\"Determinante Matriz A (Gauss con pivote parcial): \", determinante_Gauss(A))"
   ]
  },
  {
   "cell_type": "code",
   "execution_count": 136,
   "id": "fd11524c",
   "metadata": {},
   "outputs": [
    {
     "name": "stdout",
     "output_type": "stream",
     "text": [
      "Determinante Matriz B (Recursivo):  -0.4311899058718609\n",
      "Determinante Matriz B (Gauss con pivote parcial):  0.4311899058718609\n"
     ]
    }
   ],
   "source": [
    "B = [[0.61063719, 0.61755128] ,\n",
    "     [0.91460162, 0.21882633]]\n",
    "# se calcula el determinante\n",
    "print(\"Determinante Matriz B (Recursivo): \", determinante_recursivo(B))\n",
    "print(\"Determinante Matriz B (Gauss con pivote parcial): \", determinante_Gauss(B))"
   ]
  },
  {
   "cell_type": "markdown",
   "id": "8a62b95b",
   "metadata": {},
   "source": [
    "**f) [0.5 puntos] Obtén la complejidad computacional asociada al cálculo del determinante con la definición recursiva y con el método de eliminación de Gauss con pivoteo parcial.**"
   ]
  },
  {
   "cell_type": "markdown",
   "id": "1ef15e84",
   "metadata": {},
   "source": [
    "**RTA**\n",
    "\n",
    "- Función determinante_recursivo(matriz)\n",
    "\n",
    "```python\n",
    "def determinante_recursivo(matriz):\n",
    "    det = 0\n",
    "    l = len(matriz)\n",
    "    if l == 1:\n",
    "        det = matriz[0][0]\n",
    "    elif l == 2:\n",
    "        det = matriz[0][0]*matriz[1][1] - matriz[0][1]*matriz[1][0]\n",
    "    else:\n",
    "        for i in range(l):\n",
    "            matriz_reducida = []\n",
    "            for j in range(1, l):\n",
    "                fila = []\n",
    "                for k in range(l):\n",
    "                    if k != i:\n",
    "                        fila.append(matriz[j][k])\n",
    "                matriz_reducida.append(fila)\n",
    "            det += (-1)**i * matriz[0][i] * determinante_recursivo(matriz_reducida)\n",
    "    return det\n",
    "```\n",
    "El algoritmo es una función que implementa recursividad denotamos con T(n) donde n es el tamaño de la matriz, observamos en las primeras instrucciones que para un n=1 y un n=2 se realiza en general una OE (operación elemental) indicando que el tiempo de ejecución va a ser constante (O (1) orden constante) \n",
    "\n",
    "                                             T(n) = O(1) si n = 1 o n = 2\n",
    "                                             \n",
    "En los otros casos donde n>2 se tiene n llamadas recursivas al mismo algoritmo con una matriz de tamaño (n-1) x (n-1) y contando con los ciclos for anidados se tendría \n",
    "\n",
    "                                             T(n) = n[T(n-1) + O((n-1) ^2)] si n > 2\n",
    "                                             \n",
    "se puede llegar a una forma cerrada para T(n) expandiendo la expresión recursiva T(n-1), la cual es:\n",
    "\n",
    "                                             T(n) = O(n!)\n",
    "                                            \n",
    "*Por lo tanto, la complejidad computacional del algoritmo es O(n!), lo que significa que el tiempo de ejecución del algoritmo crece muy rápidamente a medida que el tamaño de la matriz aumenta.*\n",
    "\n",
    "- Función determinante_Gauss(matriz)\n",
    "\n",
    "```python \n",
    "\n",
    "# función intercambiar fila \n",
    "def intercambiar_f(matriz, i, j):\n",
    "    matriz[i], matriz[j] = matriz[j], matriz[i]\n",
    "    return matriz\n",
    "\n",
    "# función cálculo pivote\n",
    "def pivote_parcial(matriz, k):\n",
    "    f_pivote = max(range(k, len(matriz)), key=lambda i: abs(matriz[i][k]))\n",
    "    intercambiar_f(matriz, k, f_pivote)\n",
    "\n",
    "# función implementa metodo Gauss\n",
    "def metodo_gaussPP(matriz):\n",
    "    n = len(matriz)\n",
    "    for k in range(n):\n",
    "        pivote_parcial(matriz, k)\n",
    "        for i in range(k+1, n):\n",
    "            factor = matriz[i][k] / matriz[k][k]\n",
    "            for j in range(k, n):\n",
    "                matriz[i][j] -= factor * matriz[k][j]\n",
    "    return matriz\n",
    "\n",
    "# función cálculo determinante\n",
    "def determinante_Gauss(matriz):\n",
    "    s = len(matriz)\n",
    "    B = metodo_gaussPP(matriz)\n",
    "    return ((-1)**s)*det_triang(A)\n",
    "```\n",
    "\n",
    "Para el caso de esta función se analiza de manera independiente el algoritmo de cada una de las funciones ya que la principal realiza el llamado a cada una de estas:\n",
    "    \n",
    "- intercambiar_f: esta función realiza una OE por lo cual tiene un tiempo de ejecución constante por lo cual su complejidad computacional constante `O(1)`\n",
    "    \n",
    "- pivote_parcial: esta función depende del tamaño n de la matriz y realiza llama a la función \"intercambiar_f\" para intercambiar esa fila con la fila actual en la que se está trabajando, por lo tanto, tiene una complejidad computacional lineal `O(n)`\n",
    "    \n",
    "- metodo_gaussPP: en general el costo computacional está representado por los tres ciclos for anidados donde se realiza llama a la función \"pivote_parcial\" en cada iteración del bucle externo, teniendo así un coste cubico `O(n^3)`\n",
    "    \n",
    "- determinante_Gauss: esta es la función principal que depende de la complejidad computacional de las funciones  a la que acude o realiza llamada, teniendo por lo tanto el coste máximo que es `O(n^3)`.\n",
    "\n",
    "\n",
    "\n"
   ]
  },
  {
   "cell_type": "markdown",
   "id": "16f8973a",
   "metadata": {},
   "source": [
    "*Observar la complejidad computacional basado en tiempo de ejecución*"
   ]
  },
  {
   "cell_type": "code",
   "execution_count": 137,
   "id": "31cc4712",
   "metadata": {},
   "outputs": [
    {
     "name": "stdout",
     "output_type": "stream",
     "text": [
      "Métricas de la función determinante_recursivo(A)\n",
      "\n",
      "\n",
      "         38197 function calls (34578 primitive calls) in 0.112 seconds\n",
      "\n",
      "   Ordered by: standard name\n",
      "\n",
      "   ncalls  tottime  percall  cumtime  percall filename:lineno(function)\n",
      "   3620/1    0.104    0.000    0.112    0.112 1138569062.py:1(determinante_recursivo)\n",
      "        1    0.000    0.000    0.112    0.112 <string>:1(<module>)\n",
      "        1    0.000    0.000    0.112    0.112 {built-in method builtins.exec}\n",
      "     3620    0.001    0.000    0.001    0.000 {built-in method builtins.len}\n",
      "    30954    0.007    0.000    0.007    0.000 {method 'append' of 'list' objects}\n",
      "        1    0.000    0.000    0.000    0.000 {method 'disable' of '_lsprof.Profiler' objects}\n",
      "\n",
      "\n",
      "Métricas de la función determinant_Gauss(A)\n",
      "\n",
      "\n",
      "         93 function calls in 0.000 seconds\n",
      "\n",
      "   Ordered by: standard name\n",
      "\n",
      "   ncalls  tottime  percall  cumtime  percall filename:lineno(function)\n",
      "        1    0.000    0.000    0.000    0.000 1105841784.py:1(det_triang)\n",
      "        7    0.000    0.000    0.000    0.000 1664173145.py:2(intercambiar_f)\n",
      "        7    0.000    0.000    0.000    0.000 2494589082.py:1(pivote_parcial)\n",
      "       28    0.000    0.000    0.000    0.000 2494589082.py:2(<lambda>)\n",
      "        1    0.000    0.000    0.000    0.000 3387590223.py:1(determinante_Gauss)\n",
      "        1    0.000    0.000    0.000    0.000 4248108306.py:1(metodo_gaussPP)\n",
      "        1    0.000    0.000    0.000    0.000 <string>:1(<module>)\n",
      "       28    0.000    0.000    0.000    0.000 {built-in method builtins.abs}\n",
      "        1    0.000    0.000    0.000    0.000 {built-in method builtins.exec}\n",
      "       10    0.000    0.000    0.000    0.000 {built-in method builtins.len}\n",
      "        7    0.000    0.000    0.000    0.000 {built-in method builtins.max}\n",
      "        1    0.000    0.000    0.000    0.000 {method 'disable' of '_lsprof.Profiler' objects}\n",
      "\n",
      "\n"
     ]
    }
   ],
   "source": [
    "import cProfile\n",
    "\n",
    "A = [[2,1,1,3,5,3,9],\n",
    "     [4,-6,0,4,2,4,9],\n",
    "     [-2,7,2,3,7,5,9],\n",
    "     [-5,7,2,8,7,6,9],\n",
    "     [1,7,4,3,9,7,9],\n",
    "     [1,7,4,3,1,2,9],\n",
    "     [1,7,4,3,3,5,9]]\n",
    "print(\"Métricas de la función determinante_recursivo(A)\")\n",
    "print(\"\\n\")\n",
    "cProfile.run('determinante_recursivo(A)')\n",
    "print(\"Métricas de la función determinant_Gauss(A)\")\n",
    "print(\"\\n\")\n",
    "cProfile.run('determinante_Gauss(A)')"
   ]
  },
  {
   "cell_type": "markdown",
   "id": "61dc176d",
   "metadata": {},
   "source": [
    "**g) [1 punto] Utilizando numpy.random.rand, genera matrices cuadradas aleatorias de la forma An ∈ Rn×n, para 2 ≤ n ≤ 10, y confecciona una tabla comparativa del tiempo de ejecución asociado a cada una de las variantes siguientes, interpretando los resultados:\n",
    "\n",
    "- **Utilizando determinante recursivo.**\n",
    "- **Empleando determinante gauss.**\n",
    "- **Haciendo uso de la función preprogramada numpy.linalg.det.**"
   ]
  },
  {
   "cell_type": "markdown",
   "id": "17b6a656",
   "metadata": {},
   "source": [
    "**RTA**\n",
    "\n"
   ]
  },
  {
   "cell_type": "code",
   "execution_count": 138,
   "id": "a7d18da0",
   "metadata": {},
   "outputs": [],
   "source": [
    "import numpy as np\n",
    "import pandas as pd\n",
    "import time\n"
   ]
  },
  {
   "cell_type": "code",
   "execution_count": 139,
   "id": "5ba3cce3",
   "metadata": {},
   "outputs": [],
   "source": [
    "def mide_tiempo(funcion):\n",
    "    def funcion_medida(*args, **kwargs):\n",
    "        inicio = time.time()\n",
    "        c = funcion(*args, **kwargs)\n",
    "        #print(time.time() - inicio)\n",
    "        return (time.time() - inicio)\n",
    "    return funcion_medida"
   ]
  },
  {
   "cell_type": "code",
   "execution_count": 140,
   "id": "f34cf058",
   "metadata": {},
   "outputs": [],
   "source": [
    "@mide_tiempo\n",
    "def determinante_recursivo(matriz):\n",
    "    det = 0\n",
    "    l = len(matriz)\n",
    "    if l == 1:\n",
    "        det = matriz[0][0]\n",
    "    elif l == 2:\n",
    "        det = matriz[0][0]*matriz[1][1] - matriz[0][1]*matriz[1][0]\n",
    "    else:\n",
    "        for i in range(l):\n",
    "            matriz_reducida = []\n",
    "            for j in range(1, l):\n",
    "                fila = []\n",
    "                for k in range(l):\n",
    "                    if k != i:\n",
    "                        fila.append(matriz[j][k])\n",
    "                matriz_reducida.append(fila)\n",
    "            det += (-1)**i * matriz[0][i] * determinante_recursivo(matriz_reducida)\n",
    "    return det\n",
    "\n",
    "@mide_tiempo\n",
    "def determinante_Gauss(matriz):\n",
    "    s = len(matriz)\n",
    "    B = metodo_gaussPP(matriz)\n",
    "    return ((-1)**s)*det_triang(matriz)\n",
    "\n",
    "@mide_tiempo\n",
    "def funcion_numpy(matriz):\n",
    "    return np.linalg.det(matriz)\n",
    "    "
   ]
  },
  {
   "cell_type": "code",
   "execution_count": 141,
   "id": "821da8dd",
   "metadata": {},
   "outputs": [
    {
     "name": "stderr",
     "output_type": "stream",
     "text": [
      "C:\\Users\\Usuario\\AppData\\Local\\Temp\\ipykernel_8924\\4248108306.py:6: RuntimeWarning: invalid value encountered in double_scalars\n",
      "  factor = matriz[i][k] / matriz[k][k]\n"
     ]
    },
    {
     "name": "stdout",
     "output_type": "stream",
     "text": [
      "   Matriz nxn  Determinante Recursivo  Determinante Gauss  \\\n",
      "0           2                0.000000            0.000000   \n",
      "1           3                0.000000            0.000000   \n",
      "2           4                0.000000            0.000000   \n",
      "3           5                0.000000            0.015648   \n",
      "4           6                0.000000            0.000000   \n",
      "5           7                0.015481            0.000000   \n",
      "6           8                0.156123            0.000000   \n",
      "7           9                1.289692            0.000000   \n",
      "8          10               15.705016            0.000000   \n",
      "\n",
      "   Determinante con Numpy  \n",
      "0                0.015625  \n",
      "1                0.000000  \n",
      "2                0.000000  \n",
      "3                0.000000  \n",
      "4                0.000000  \n",
      "5                0.015676  \n",
      "6                0.000000  \n",
      "7                0.000000  \n",
      "8                0.000000  \n"
     ]
    }
   ],
   "source": [
    "# Generción aleatoria de matrices  2<= n >=10\n",
    "n_valores = list(range(2, 11))  # valores de n de 2 a 10\n",
    "tiempos = []\n",
    "claves = ['Matriz nxn', 'Determinante Recursivo', 'Determinante Gauss', 'Determinante con Numpy']\n",
    "\n",
    "\n",
    "for n in n_valores:\n",
    "    matriz = np.random.rand(n, n)\n",
    "    val1 = n\n",
    "    val2 = determinante_recursivo(matriz)\n",
    "    val4 = funcion_numpy(matriz)\n",
    "    val3 = determinante_Gauss(matriz)\n",
    "    tiempos.append([val1, val2, val3, val4])\n",
    "    \n",
    "df = pd.DataFrame(tiempos, columns=claves)\n",
    "print(df)\n",
    "    "
   ]
  },
  {
   "cell_type": "markdown",
   "id": "baab057d",
   "metadata": {},
   "source": [
    "# Punto 2:\n",
    "\n",
    "Se trabaja con el método de descenso de gradiente, el cual constituye otra herramienta crucial, en esta ocasión de la rama del cálculo, para el proceso de retropropagación asociado al entrenamiento de una red neuronal."
   ]
  },
  {
   "cell_type": "markdown",
   "id": "20e9bc10",
   "metadata": {},
   "source": [
    "**a) [1 punto] Prográmese en Python el método de descenso de gradiente para funciones de n variables. La función deberá tener como parámetros de entradas:**\n",
    "\n",
    "- **El gradiente de la función que se desea minimizar ∇f (puede venir dada como otra función previamente implementada, grad_f, con entrada un vector, representando el punto donde se quiere calcular el gradiente, y salida otro vector, representando el gradiente de f en dicho punto.**\n",
    "- **Un valor inicial x0 ∈ Rn (almacenado en un vector de n componentes).**\n",
    "- **El ratio de aprendizaje γ (que se asume constante para cada iteración).**\n",
    "- **Un parámetro de tolerancia tol (con el que finalizar el proceso cuando ∥∇f(x)∥2 < tol).**\n",
    "- **Un número máximo de iteraciones maxit (con el fin de evitar ejecuciones indefinidas en caso de divergencia o convergencia muy lenta).**\n",
    "- **La salida de la funcióon deberá ser la aproximación del x que cumple f′(x) ≈ 0, correspondiente a la última iteración realizada en el método.**"
   ]
  },
  {
   "cell_type": "markdown",
   "id": "77e729ca",
   "metadata": {},
   "source": [
    "*Función a evaluar gradiente en un punto* "
   ]
  },
  {
   "cell_type": "code",
   "execution_count": 142,
   "id": "77290dc0",
   "metadata": {},
   "outputs": [],
   "source": [
    "import numpy as np\n",
    "from scipy import optimize\n",
    "\n",
    "def grad_f(punto):\n",
    "    return optimize.approx_fprime(np.array(punto), f, epsilon=1e-6) "
   ]
  },
  {
   "cell_type": "markdown",
   "id": "8f3f574f",
   "metadata": {},
   "source": [
    "*Implementación de la funcion del descenso gradiente con los parametros indicados*"
   ]
  },
  {
   "cell_type": "code",
   "execution_count": 143,
   "id": "9525fade",
   "metadata": {},
   "outputs": [],
   "source": [
    "def descenso_grad(grad_f, x0, ratio, tol, maxit):\n",
    "    x = np.array(x0)  \n",
    "    for i in range(maxit):\n",
    "        grad = grad_f(x)\n",
    "        if np.linalg.norm(grad) < tol:  \n",
    "            break\n",
    "        x -= ratio * grad\n",
    "    return [x,i]"
   ]
  },
  {
   "cell_type": "markdown",
   "id": "416103e0",
   "metadata": {},
   "source": [
    "*Ejemplo con f(x)=x^2*"
   ]
  },
  {
   "cell_type": "code",
   "execution_count": 144,
   "id": "a0018f35",
   "metadata": {},
   "outputs": [
    {
     "name": "stdout",
     "output_type": "stream",
     "text": [
      "x minimo [0.8191997]\n",
      "Número de iteraciones 3\n"
     ]
    }
   ],
   "source": [
    "def f(x):\n",
    "    x = x[0]**2\n",
    "    return x\n",
    "\n",
    "x0 = [2.0]\n",
    "ratio = 0.1\n",
    "tol = 1e-3\n",
    "maxit = 4\n",
    "\n",
    "[x_min,i] = descenso_grad(grad_f, x0, ratio, tol, maxit)\n",
    "print(\"x minimo\",x_min)\n",
    "print(\"Número de iteraciones\",i)"
   ]
  },
  {
   "cell_type": "markdown",
   "id": "26960e43",
   "metadata": {},
   "source": [
    "**b) Sea la función f : R → R dada por f(x) = 3x^4 + 4x^3 − 12x^2 + 7.**"
   ]
  },
  {
   "cell_type": "code",
   "execution_count": 145,
   "id": "c0d55c91",
   "metadata": {},
   "outputs": [
    {
     "data": {
      "image/png": "[encoded data removed]",
      "text/plain": [
       "<Figure size 640x480 with 1 Axes>"
      ]
     },
     "metadata": {},
     "output_type": "display_data"
    }
   ],
   "source": [
    "import matplotlib.pyplot as plt\n",
    "import numpy as np\n",
    "\n",
    "def f(x):\n",
    "    return 3*(x)**4 + 4*(x)**3 - 12*(x)**2 + 7\n",
    "\n",
    "x = np.linspace(-3, 3,100)\n",
    "y = f(x)\n",
    "plt.plot(x, y)\n",
    "plt.xlabel('Eje X')\n",
    "plt.ylabel('Eje Y')\n",
    "plt.title('Función f(x) = 3x^4 + 4x^3 − 12x^2 + 7')\n",
    "plt.show()"
   ]
  },
  {
   "cell_type": "code",
   "execution_count": 146,
   "id": "97762741",
   "metadata": {},
   "outputs": [],
   "source": [
    "def f(x):\n",
    "    return 3*(x[0])**4 + 4*(x[0])**3 - 12*(x[0])**2 + 7"
   ]
  },
  {
   "cell_type": "markdown",
   "id": "0548ae9e",
   "metadata": {},
   "source": [
    "**I [0.5 puntos] Aplica el método sobre f(x) con x0 = 3 γ = 0.001, tol=1e-12,maxit=1e5.**"
   ]
  },
  {
   "cell_type": "code",
   "execution_count": 147,
   "id": "bde25d1d",
   "metadata": {},
   "outputs": [
    {
     "name": "stdout",
     "output_type": "stream",
     "text": [
      "x minimo [0.9999995]\n",
      "Número de iteraciones 633\n"
     ]
    }
   ],
   "source": [
    "x0=[3.0]\n",
    "ratio=0.001\n",
    "tol=1e-12\n",
    "maxit=100000\n",
    "\n",
    "[x_min,i] = descenso_grad(grad_f, x0, ratio, tol, maxit)\n",
    "print(\"x minimo\",x_min)\n",
    "print(\"Número de iteraciones\",i)"
   ]
  },
  {
   "cell_type": "markdown",
   "id": "ef25e3a0",
   "metadata": {},
   "source": [
    "**II [0.5 puntos] Aplica de nuevo el método sobre f(x) con x0 = 3, γ = 0.01,tol=1e-12, maxit=1e5.**"
   ]
  },
  {
   "cell_type": "code",
   "execution_count": 148,
   "id": "7c41d331",
   "metadata": {},
   "outputs": [
    {
     "name": "stdout",
     "output_type": "stream",
     "text": [
      "x minimo [-2.0000005]\n",
      "Número de iteraciones 99999\n"
     ]
    }
   ],
   "source": [
    "x0=[3.0]\n",
    "ratio=0.01\n",
    "tol=1e-12\n",
    "maxit=100000\n",
    "\n",
    "[x_min,i] = descenso_grad(grad_f, x0, ratio, tol, maxit)\n",
    "print(\"x minimo\",x_min)\n",
    "print(\"Número de iteraciones\",i)"
   ]
  },
  {
   "cell_type": "markdown",
   "id": "62a93655",
   "metadata": {},
   "source": [
    "**III [0.5 puntos] Contrasta e interpreta los dos resultados obtenidos en los apartados anteriores y compáralos con los mínimos locales obtenidos analíticamente. ¿Qué influencia puede llegar a tener la elección del ratio de aprendizaje γ?**"
   ]
  },
  {
   "cell_type": "markdown",
   "id": "cfb6b8b2",
   "metadata": {},
   "source": [
    "**RTA**\n",
    "\n",
    "Los minimos locales de manera analitica de la f(x) = 3x^4 + 4x^3 − 12x^2 + 7:\n",
    "\n",
    "- Primera derivada f'(x) = 12x^3 + 12x^2 - 24x\n",
    "- f'(x) = 0, podemos factorizar f'(x): \n",
    "            f'(x) = 12x(x^2 + x - 2) = 0 \n",
    "            12x = 0 --> x = 0\n",
    "            x^2 + x - 2 = 0 -->(x + 2) (x - 1) = 0  --> x+2=0   x-1=0  --> x= -2   y x=1\n",
    "- Segunda derivada de f(x): f''(x) = 36x^2 + 24x - 24\n",
    "- se evalua f''(0), f''(-2), y f''(1):\n",
    "    f''(0) = -24 < 0, lo que significa que x = 0 corresponde a un máximo local. \n",
    "    f''(-2) = 72 > 0, lo que significa que x = -2 corresponde a un mínimo local. \n",
    "    f''(1) = 36 > 0, lo que significa que x = 1 corresponde a un mínimo local.\n",
    "- Los valores de x que corresponden a mínimos locales son x = -2 y x = 1.\n",
    "\n",
    "| Descenso_grad con ratio= 0,001 |Descenso_grad con ratio= 0,01 | Cálculo analitico |\n",
    "| --- | --- | --- |\n",
    "| 0,9999 | -2,0000 | -2 y 1 |\n",
    "\n",
    "*Interpretación:*\n",
    "\n",
    "- El algoritmo realizado encuentra los minimos locales de la función de acuerdo con el cálculo analitico realizado\n",
    "- En cuanto a la tasa de aprendizaje (ratio) determina la cantidad de iteraciones requeridas para que el algoritmo del gradiente descendente alcance el valor mínimo"
   ]
  },
  {
   "cell_type": "markdown",
   "id": "11076da0",
   "metadata": {},
   "source": [
    "**IV [0.5 puntos] Aplica nuevamente el método sobre f(x) con x0 = 3, γ = 0.1, tol=1e-12, maxit=1e5. Interpreta el resultado.**"
   ]
  },
  {
   "cell_type": "code",
   "execution_count": 149,
   "id": "6675ea1e",
   "metadata": {},
   "outputs": [
    {
     "name": "stderr",
     "output_type": "stream",
     "text": [
      "C:\\Users\\Usuario\\AppData\\Local\\Temp\\ipykernel_8924\\4068517693.py:2: RuntimeWarning: overflow encountered in double_scalars\n",
      "  return 3*(x[0])**4 + 4*(x[0])**3 - 12*(x[0])**2 + 7\n",
      "C:\\Users\\Usuario\\AppData\\Local\\Temp\\ipykernel_8924\\4068517693.py:2: RuntimeWarning: invalid value encountered in double_scalars\n",
      "  return 3*(x[0])**4 + 4*(x[0])**3 - 12*(x[0])**2 + 7\n"
     ]
    },
    {
     "name": "stdout",
     "output_type": "stream",
     "text": [
      "x minimo [nan]\n",
      "Número de iteraciones 99999\n"
     ]
    }
   ],
   "source": [
    "x0=[3.0]\n",
    "ratio=0.1\n",
    "tol=1e-12\n",
    "maxit=100000\n",
    "\n",
    "[x_min,i] = descenso_grad(grad_f, x0, ratio, tol, maxit)\n",
    "print(\"x minimo\",x_min)\n",
    "print(\"Número de iteraciones\",i)"
   ]
  },
  {
   "cell_type": "markdown",
   "id": "920804c7",
   "metadata": {},
   "source": [
    "*Interpretación:*\n"
   ]
  },
  {
   "cell_type": "markdown",
   "id": "3bc1650c",
   "metadata": {},
   "source": [
    "**V [0.5 puntos] Finalmente, aplica el método sobre f(x) con x0 = 0, γ = 0.001, tol=1e-12, maxit=1e5. Interpreta el resultado y compáralo con el estudio analítico de f. ¿Se trata de un resultado deseable? ¿Por qué? ¿A qué se debe este fenómeno?**"
   ]
  },
  {
   "cell_type": "code",
   "execution_count": 150,
   "id": "6b7b126d",
   "metadata": {},
   "outputs": [
    {
     "name": "stdout",
     "output_type": "stream",
     "text": [
      "x minimo [0.9999995]\n",
      "Número de iteraciones 1295\n"
     ]
    }
   ],
   "source": [
    "x0=[0.0]\n",
    "ratio=0.001\n",
    "tol=1e-12\n",
    "maxit=100000\n",
    "\n",
    "[x_min,i] = descenso_grad(grad_f, x0, ratio, tol, maxit)\n",
    "print(\"x minimo\",x_min)\n",
    "print(\"Número de iteraciones\",i)"
   ]
  },
  {
   "cell_type": "markdown",
   "id": "101238a0",
   "metadata": {},
   "source": [
    "*Interpretación:*\n",
    "\n",
    "El resultado obtenido por el método de descenso gradiente es muy cercano a uno de los mínimos locales como se observaron de manera analitica (x=1 y x=-2). Sin embargo, el método no converge exactamente al mínimo (x=-2) debido a la limitación de tol=1e-12, que establece la precisión máxima permitida. Pero se obtiene una buena aproximación, este fenómeno de la aproximación inexacta del mínimo por el método de descenso gradiente se debe a la naturaleza iterativa del método y la precisión finita de las operaciones aritméticas en la computadora."
   ]
  },
  {
   "cell_type": "markdown",
   "id": "f00e94ff",
   "metadata": {},
   "source": [
    "**c) Sea la función g : R2 → R dada por g(x, y) = x^2 + y^3 + 3xy + 1**"
   ]
  },
  {
   "cell_type": "code",
   "execution_count": 151,
   "id": "854a36a7",
   "metadata": {},
   "outputs": [
    {
     "data": {
      "image/png": "[encoded data removed]",
      "text/plain": [
       "<Figure size 640x480 with 1 Axes>"
      ]
     },
     "metadata": {},
     "output_type": "display_data"
    }
   ],
   "source": [
    "import matplotlib.pyplot as plt\n",
    "import numpy as np\n",
    "\n",
    "def f(x,y):\n",
    "    return (x)**2 + (y)**3 + 3*(x*y) + 1\n",
    "\n",
    "x = np.linspace(-7, 7, 100)\n",
    "y = np.linspace(-7, 7, 100)\n",
    "X, Y = np.meshgrid(x, y)\n",
    "Z = f(X, Y)\n",
    "\n",
    "g = f(x,y)\n",
    "fig = plt.figure()\n",
    "ax = fig.add_subplot(111, projection='3d')\n",
    "ax.plot_surface(X, Y, Z)\n",
    "plt.xlabel('Eje X')\n",
    "plt.ylabel('Eje Y')\n",
    "plt.ylabel('Eje Z')\n",
    "plt.title('Función f(x) = x^2 + y^3 + 3xy + 1')\n",
    "plt.show()"
   ]
  },
  {
   "cell_type": "markdown",
   "id": "123bac57",
   "metadata": {},
   "source": [
    "**I [0.5 puntos] Aplíquese el método sobre g(x, y) con x0 = (−1, 1), γ = 0.01, tol=1e-12, maxit=1e5.**"
   ]
  },
  {
   "cell_type": "code",
   "execution_count": 152,
   "id": "726ced11",
   "metadata": {},
   "outputs": [],
   "source": [
    "def f(x):\n",
    "    return (x[0])**2 + (x[1])**3 + 3*(x[0]*x[1]) + 1"
   ]
  },
  {
   "cell_type": "code",
   "execution_count": 153,
   "id": "4accec06",
   "metadata": {},
   "outputs": [
    {
     "name": "stdout",
     "output_type": "stream",
     "text": [
      "x minimo [-2.2499995   1.49999933]\n",
      "Número de iteraciones 23484\n"
     ]
    }
   ],
   "source": [
    "x0=[-1.0,1.0]\n",
    "ratio=0.001\n",
    "tol=1e-12\n",
    "maxit=100000\n",
    "\n",
    "[x_min,i] = descenso_grad(grad_f, x0, ratio, tol, maxit)\n",
    "print(\"x minimo\",x_min)\n",
    "print(\"Número de iteraciones\",i)"
   ]
  },
  {
   "cell_type": "markdown",
   "id": "506e2c0c",
   "metadata": {},
   "source": [
    "**II [0.5 puntos] ¿Qué ocurre si ahora partimos de x0 = (0, 0)? ¿Se obtiene un resultado deseable?**"
   ]
  },
  {
   "cell_type": "code",
   "execution_count": 154,
   "id": "34096aad",
   "metadata": {},
   "outputs": [
    {
     "name": "stdout",
     "output_type": "stream",
     "text": [
      "x minimo [-2.2499995   1.49999933]\n",
      "Número de iteraciones 30621\n"
     ]
    }
   ],
   "source": [
    "x0=[0.0,0.0]\n",
    "ratio=0.001\n",
    "tol=1e-12\n",
    "maxit=100000\n",
    "\n",
    "[x_min,i] = descenso_grad(grad_f, x0, ratio, tol, maxit)\n",
    "print(\"x minimo\",x_min)\n",
    "print(\"Número de iteraciones\",i)"
   ]
  },
  {
   "cell_type": "markdown",
   "id": "e90b0da6",
   "metadata": {},
   "source": [
    "*Interpretación:*\n",
    "\n",
    "El resultado obtenido por el método de descenso gradiente es muy cercano a uno de los mínimos locales como se observaron de manera analitica en el punto siguiente (x=-2.25 y y=1.5). Se obtiene una buena aproximación si se redondea el resultado a dos cifras, este fenómeno de la aproximación inexacta del mínimo por el método de descenso gradiente se debe a la naturaleza iterativa del método y la precisión finita de las operaciones aritméticas en la computadora.\n",
    "\n",
    "Cuando se inicia en el punto (0,0) se obtiene el resultado deseado en más iteraciones que en el caso de iniciar en un punto diferente."
   ]
  },
  {
   "cell_type": "markdown",
   "id": "08de1bcb",
   "metadata": {},
   "source": [
    "**[0.5 puntos] Realícese el estudio analítico de la función y utilícese para explicar y contrastar los resultados obtenidos en los dos apartados anteriores.**"
   ]
  },
  {
   "cell_type": "markdown",
   "id": "b2ae11a9",
   "metadata": {},
   "source": [
    "**RTA**\n",
    "\n",
    "Los minimos locales de manera analitica de la g(x, y) = x^2 + y^3 + 3xy + 1:\n",
    "\n",
    "- Primera derivada -- gradiente de la función g(x, y) es: ∇g(x, y) = [∂g/∂x, ∂g/∂y] = [2x + 3y, 3y^2 + 3x]\n",
    "- Para encontrar los puntos críticos, resolvemos la siguiente ecuación:\n",
    "                            2x + 3y = 0 Ec.1\n",
    "                            3y^2 + 3x = 0 Ec.2\n",
    "    \n",
    "    De Ec1. se despeja x en términos de y: x = -(3/2)y \n",
    "    Este resultado se sustituye en la segunda ecuación: 3y^2 - (9/2)y = 0\n",
    "    Factorizando: 3y(y - (3/2)) = 0\n",
    "        3y = 0  ---> y = 0\n",
    "        y-(3/2) = 0 ---> y = 3/2\n",
    "    los puntos críticos son: (0,0) y (-9/4,3/2).\n",
    "\n",
    "- Para determinar si estos puntos son mínimos locales, máximos locales o puntos de silla, podemos utilizar la matriz Hessiana    de la función g(x, y):\n",
    "    \n",
    "    Hg(x, y) = [∂²g/∂x², ∂²g/∂x∂y;\n",
    "                ∂²g/∂y∂x, ∂²g/∂y²] \n",
    "                \n",
    "                = [2, 3; \n",
    "                   3, 6y]   Determinante 12y - 9\n",
    "\n",
    "- Para evaluar la matriz Hessiana en los puntos críticos, tenemos:\n",
    "\n",
    "    Hg(0,0) = [2, 3; \n",
    "              3, 0]\n",
    "               \n",
    "    Hg(-9/2,3/2) = [2, 3; \n",
    "                    3, 9]\n",
    "\n",
    "    En el punto (0,0), la matriz Hessiana tiene un determinante negativo -9, por lo que es un punto de silla.\n",
    "    En el punto (-9/4,3/2), la matriz Hessiana tiene un determinante positivo 9 y ambos valores propios son positivos, lo que indicaque es un mínimo local.\n",
    "\n",
    "- el mínimo local de la función g(x, y) es g(-9/4,3/2) = -0.6875\n",
    "\n",
    "| Descenso_grad con x0=(-1,1) |Descenso_grad con x0=(0,0) | Cálculo analitico |\n",
    "| --- | --- | --- |\n",
    "| [-2.2499995   1.49999933] | [-2.2499995   1.49999933] | [-2.25  1.5] |\n",
    "\n",
    "*Interpretación:*\n",
    "\n",
    "- El algoritmo realizado encuentra el minimos local de la función de acuerdo con el cálculo analitico realizado\n",
    "- En cuanto a la tasa de aprendizaje (ratio) determina la cantidad de iteraciones requeridas para que el algoritmo del gradiente descendente alcance el valor mínimo."
   ]
  },
  {
   "cell_type": "code",
   "execution_count": 155,
   "id": "7b981fc0",
   "metadata": {},
   "outputs": [
    {
     "name": "stdout",
     "output_type": "stream",
     "text": [
      "-0.6875\n"
     ]
    }
   ],
   "source": [
    "print(f([-9/4,3/2]))"
   ]
  }
 ],
 "metadata": {
  "kernelspec": {
   "display_name": "Python 3 (ipykernel)",
   "language": "python",
   "name": "python3"
  },
  "language_info": {
   "codemirror_mode": {
    "name": "ipython",
    "version": 3
   },
   "file_extension": ".py",
   "mimetype": "text/x-python",
   "name": "python",
   "nbconvert_exporter": "python",
   "pygments_lexer": "ipython3",
   "version": "3.9.13"
  }
 },
 "nbformat": 4,
 "nbformat_minor": 5
}
